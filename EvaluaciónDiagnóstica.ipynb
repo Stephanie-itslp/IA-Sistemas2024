{
  "nbformat": 4,
  "nbformat_minor": 0,
  "metadata": {
    "colab": {
      "provenance": [],
      "authorship_tag": "ABX9TyPsivVBjv68whJHOfKFv3eB",
      "include_colab_link": true
    },
    "kernelspec": {
      "name": "python3",
      "display_name": "Python 3"
    },
    "language_info": {
      "name": "python"
    }
  },
  "cells": [
    {
      "cell_type": "markdown",
      "metadata": {
        "id": "view-in-github",
        "colab_type": "text"
      },
      "source": [
        "<a href=\"https://colab.research.google.com/github/Stephanie-itslp/IA-Sistemas2024/blob/Master/Evaluaci%C3%B3nDiagn%C3%B3stica.ipynb\" target=\"_parent\"><img src=\"https://colab.research.google.com/assets/colab-badge.svg\" alt=\"Open In Colab\"/></a>"
      ]
    },
    {
      "cell_type": "markdown",
      "source": [
        "¿Como se declara una lista en python?"
      ],
      "metadata": {
        "id": "SbchmQUcWnw-"
      }
    },
    {
      "cell_type": "code",
      "execution_count": 4,
      "metadata": {
        "colab": {
          "base_uri": "https://localhost:8080/"
        },
        "id": "H59CNroPWhai",
        "outputId": "af59554c-1e44-4a78-8335-dd53d91212ea"
      },
      "outputs": [
        {
          "output_type": "stream",
          "name": "stdout",
          "text": [
            "[1, 2, 3, 4]\n"
          ]
        }
      ],
      "source": [
        "my_list = [1,2,3,4]\n",
        "print (my_list)"
      ]
    },
    {
      "cell_type": "markdown",
      "source": [
        "¿Qué función se usa para conocer el número de elementos en una lista?"
      ],
      "metadata": {
        "id": "byUzVvOQXFO7"
      }
    },
    {
      "cell_type": "code",
      "source": [
        "totalElements = len(my_list)\n",
        "print(totalElements)\n",
        "#print(len(my_list))"
      ],
      "metadata": {
        "colab": {
          "base_uri": "https://localhost:8080/"
        },
        "id": "zZ3C1ihiXPPx",
        "outputId": "495d8cb9-035d-48aa-ae4a-49a335d456d0"
      },
      "execution_count": 5,
      "outputs": [
        {
          "output_type": "stream",
          "name": "stdout",
          "text": [
            "4\n"
          ]
        }
      ]
    }
  ]
}