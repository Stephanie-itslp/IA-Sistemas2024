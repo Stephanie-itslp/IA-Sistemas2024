{
  "nbformat": 4,
  "nbformat_minor": 0,
  "metadata": {
    "colab": {
      "provenance": [],
      "authorship_tag": "ABX9TyNft37JyhvBU6+Tkt2wsaq1",
      "include_colab_link": true
    },
    "kernelspec": {
      "name": "python3",
      "display_name": "Python 3"
    },
    "language_info": {
      "name": "python"
    }
  },
  "cells": [
    {
      "cell_type": "markdown",
      "metadata": {
        "id": "view-in-github",
        "colab_type": "text"
      },
      "source": [
        "<a href=\"https://colab.research.google.com/github/Stephanie-itslp/IA-Sistemas2024/blob/Master/Evaluaci%C3%B3nDiagn%C3%B3stica.ipynb\" target=\"_parent\"><img src=\"https://colab.research.google.com/assets/colab-badge.svg\" alt=\"Open In Colab\"/></a>"
      ]
    },
    {
      "cell_type": "markdown",
      "source": [
        "# Evaluación Diagnóstica"
      ],
      "metadata": {
        "id": "gOsAIDNwgkWT"
      }
    },
    {
      "cell_type": "markdown",
      "source": [
        "¿Como se declara una lista en python?"
      ],
      "metadata": {
        "id": "SbchmQUcWnw-"
      }
    },
    {
      "cell_type": "code",
      "execution_count": null,
      "metadata": {
        "colab": {
          "base_uri": "https://localhost:8080/"
        },
        "id": "H59CNroPWhai",
        "outputId": "af59554c-1e44-4a78-8335-dd53d91212ea"
      },
      "outputs": [
        {
          "output_type": "stream",
          "name": "stdout",
          "text": [
            "[1, 2, 3, 4]\n"
          ]
        }
      ],
      "source": [
        "my_list = [1,2,3,4]\n",
        "print (my_list)"
      ]
    },
    {
      "cell_type": "markdown",
      "source": [
        "¿Qué función se usa para conocer el número de elementos en una lista?"
      ],
      "metadata": {
        "id": "byUzVvOQXFO7"
      }
    },
    {
      "cell_type": "code",
      "source": [
        "totalElements = len(my_list)\n",
        "print(totalElements)\n",
        "#print(len(my_list))"
      ],
      "metadata": {
        "colab": {
          "base_uri": "https://localhost:8080/"
        },
        "id": "zZ3C1ihiXPPx",
        "outputId": "495d8cb9-035d-48aa-ae4a-49a335d456d0"
      },
      "execution_count": null,
      "outputs": [
        {
          "output_type": "stream",
          "name": "stdout",
          "text": [
            "4\n"
          ]
        }
      ]
    },
    {
      "cell_type": "markdown",
      "source": [
        "# Práctica de python"
      ],
      "metadata": {
        "id": "OmC_qKUsg4ib"
      }
    },
    {
      "cell_type": "markdown",
      "source": [
        "Clasificación de una lista con números pares e impares"
      ],
      "metadata": {
        "id": "LJCNp7JchBtb"
      }
    },
    {
      "cell_type": "code",
      "source": [
        "## Declaración de variables\n",
        "numeros = [10,25,36,98,77,34,89,58]\n",
        "pares = []\n",
        "impares = []"
      ],
      "metadata": {
        "id": "VB5UDC7ChYBe"
      },
      "execution_count": 10,
      "outputs": []
    },
    {
      "cell_type": "code",
      "source": [
        "# Ciclo for para recorrer la lista\n",
        "for numero in numeros:\n",
        "  if numero % 2 == 0:\n",
        "    # pares[0] = numeros[0]; java, C, c# \"0 es es valor de 'i'\"\n",
        "    pares.append(numero)\n",
        "  else:\n",
        "    impares.append(numero)"
      ],
      "metadata": {
        "id": "cYx62NnqiiUc"
      },
      "execution_count": 11,
      "outputs": []
    },
    {
      "cell_type": "code",
      "source": [
        "# impresion de resultados\n",
        "print(\"Pares: \",pares , \" total: \", len(pares))\n",
        "print(\"Impares: \",impares , \" total: \", len(impares))"
      ],
      "metadata": {
        "colab": {
          "base_uri": "https://localhost:8080/"
        },
        "id": "uwk5gdq2j1Yl",
        "outputId": "8f357754-6233-4520-92ff-f84381f8c632"
      },
      "execution_count": 12,
      "outputs": [
        {
          "output_type": "stream",
          "name": "stdout",
          "text": [
            "Pares:  [10, 36, 98, 34, 58]  total:  5\n",
            "Impares:  [25, 77, 89]  total:  3\n"
          ]
        }
      ]
    },
    {
      "cell_type": "code",
      "source": [
        "# Funcion suma de los numeros pares\n",
        "def sumaLista(lista):\n",
        "  suma = 0\n",
        "  for numero in lista:\n",
        "    suma += numero\n",
        "  return suma"
      ],
      "metadata": {
        "id": "Tf-oZGZ2mH8x"
      },
      "execution_count": 15,
      "outputs": []
    },
    {
      "cell_type": "code",
      "source": [
        "# impresion de la suma\n",
        "print( \"suma de pares\" , sumaLista(pares))\n",
        "print( \"suma de impares\" , sumaLista(impares))"
      ],
      "metadata": {
        "colab": {
          "base_uri": "https://localhost:8080/"
        },
        "id": "A7XU7rnjnPAR",
        "outputId": "8d7359b5-4e6b-4e80-b612-95db4be13216"
      },
      "execution_count": 16,
      "outputs": [
        {
          "output_type": "stream",
          "name": "stdout",
          "text": [
            "suma de pares 236\n",
            "suma de impares 191\n"
          ]
        }
      ]
    }
  ]
}