{
  "nbformat": 4,
  "nbformat_minor": 0,
  "metadata": {
    "colab": {
      "provenance": [],
      "authorship_tag": "ABX9TyOnKhI2gTWdY3GGdfbpmpav",
      "include_colab_link": true
    },
    "kernelspec": {
      "name": "python3",
      "display_name": "Python 3"
    },
    "language_info": {
      "name": "python"
    }
  },
  "cells": [
    {
      "cell_type": "markdown",
      "metadata": {
        "id": "view-in-github",
        "colab_type": "text"
      },
      "source": [
        "<a href=\"https://colab.research.google.com/github/Stephanie-itslp/IA-Sistemas2024/blob/Master/practica2_neurona.ipynb\" target=\"_parent\"><img src=\"https://colab.research.google.com/assets/colab-badge.svg\" alt=\"Open In Colab\"/></a>"
      ]
    },
    {
      "cell_type": "markdown",
      "source": [
        "# Neurona aprendizaje compuerta AND\n",
        "\n",
        "\n",
        "---\n",
        "00 -> 0  \n",
        "01 -> 0  \n",
        "10 -> 0  \n",
        "11 -> 1  "
      ],
      "metadata": {
        "id": "YquD-ksdmm5J"
      }
    },
    {
      "cell_type": "code",
      "execution_count": null,
      "metadata": {
        "colab": {
          "base_uri": "https://localhost:8080/"
        },
        "id": "lubFTPSEgqQH",
        "outputId": "b44cea09-1639-4231-dd54-713ef5124c70"
      },
      "outputs": [
        {
          "output_type": "stream",
          "name": "stdout",
          "text": [
            "10\n",
            "1 AND 0 = 1\n"
          ]
        }
      ],
      "source": [
        "x=[1,0]\n",
        "w=[10,0]\n",
        "s=0\n",
        "y=0\n",
        "for i in range(0,2):\n",
        "  s=s+x[i]*w[i]\n",
        "print(s)\n",
        "\n",
        "y=1 if s>0 else 0\n",
        "print(x[0],'AND',x[1],'=',y)"
      ]
    },
    {
      "cell_type": "markdown",
      "source": [
        "Tarea buscar el peso \"W\" correcto que nos de los resultados correctos en las combinaciones de datos de entrada \"X\" de la compuerta and \"S\""
      ],
      "metadata": {
        "id": "Tss7mbWlq2kW"
      }
    }
  ]
}